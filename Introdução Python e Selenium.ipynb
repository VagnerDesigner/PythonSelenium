{
 "cells": [
  {
   "cell_type": "code",
   "execution_count": 5,
   "metadata": {},
   "outputs": [],
   "source": [
    "# importando webdriver, dabiblioteca\n",
    "from selenium import webdriver\n",
    "# Abrindo navegador\n",
    "navegador = webdriver.Chrome()\n",
    "#Acesssando o site desejado\n",
    "navegador.get(\"https://ri.magazineluiza.com.br\")\n",
    "#Localizando objetos no site\n",
    "navegador.find_element_by_xpath('//*[@id=\"owl-destaques\"]/div[1]/div/div[4]/div/a/p').click()\n",
    "\n",
    "navegador.find_element_by_xpath('//*[@id=\"bWtQ7n6RcQdDDDCgCcH3yg==\"]').click()\n",
    "\n"
   ]
  }
 ],
 "metadata": {
  "kernelspec": {
   "display_name": "Python 3",
   "language": "python",
   "name": "python3"
  },
  "language_info": {
   "codemirror_mode": {
    "name": "ipython",
    "version": 3
   },
   "file_extension": ".py",
   "mimetype": "text/x-python",
   "name": "python",
   "nbconvert_exporter": "python",
   "pygments_lexer": "ipython3",
   "version": "3.8.5"
  }
 },
 "nbformat": 4,
 "nbformat_minor": 5
}
